{
  "nbformat": 4,
  "nbformat_minor": 0,
  "metadata": {
    "colab": {
      "name": "Fire_Detection_v4",
      "provenance": []
    },
    "kernelspec": {
      "name": "python3",
      "display_name": "Python 3"
    },
    "language_info": {
      "name": "python"
    },
    "accelerator": "GPU"
  },
  "cells": [
    {
      "cell_type": "markdown",
      "metadata": {
        "id": "6B4KwXnKKURO"
      },
      "source": [
        "# Downloading dataset"
      ]
    },
    {
      "cell_type": "code",
      "metadata": {
        "id": "t4ttH-nq1CTa"
      },
      "source": [
        "# submit your kaggle.json\n",
        "from google.colab import files\n",
        "files.upload()"
      ],
      "execution_count": null,
      "outputs": []
    },
    {
      "cell_type": "code",
      "metadata": {
        "id": "PWu7uj-R1Gwv"
      },
      "source": [
        "!mkdir -p ~/.kaggle\n",
        "!cp kaggle.json ~/.kaggle/\n",
        "\n",
        "!chmod 600 ~/.kaggle/kaggle.json"
      ],
      "execution_count": 3,
      "outputs": []
    },
    {
      "cell_type": "code",
      "metadata": {
        "id": "0hI1Cmhq1nfV",
        "colab": {
          "base_uri": "https://localhost:8080/"
        },
        "outputId": "b47788f3-e61c-4edf-9ce9-5610cd03b328"
      },
      "source": [
        "!kaggle datasets download -d tharakan684/urecamain"
      ],
      "execution_count": 4,
      "outputs": [
        {
          "output_type": "stream",
          "text": [
            "Downloading urecamain.zip to /content\n",
            " 92% 89.0M/96.8M [00:01<00:00, 47.5MB/s]\n",
            "100% 96.8M/96.8M [00:01<00:00, 59.1MB/s]\n"
          ],
          "name": "stdout"
        }
      ]
    },
    {
      "cell_type": "code",
      "metadata": {
        "id": "NdI-TLA_13Gy"
      },
      "source": [
        "!unzip /content/urecamain.zip"
      ],
      "execution_count": null,
      "outputs": []
    },
    {
      "cell_type": "code",
      "metadata": {
        "id": "9vNE-9CiGNIF"
      },
      "source": [
        "import os\n",
        "\n",
        "train_dir = \"/content/Train/\"\n",
        "val_dir = \"/content/Vali/\"\n",
        "test_dir = \"/content/Test/\""
      ],
      "execution_count": 6,
      "outputs": []
    },
    {
      "cell_type": "code",
      "metadata": {
        "id": "CeTb9kgYGOJe"
      },
      "source": [
        "# move test images to train\n",
        "import shutil\n",
        "\n",
        "test_fire_fnames = os.listdir(os.path.join(test_dir,\"Fire\"))\n",
        "test_non_fire_fnames = os.listdir(os.path.join(test_dir,\"Non-Fire\"))\n",
        "\n",
        "for file in test_fire_fnames:\n",
        "  shutil.copyfile(test_dir + \"Fire/\" + file, train_dir + \"Fire/\" + file)\n",
        "\n",
        "for file in test_non_fire_fnames:\n",
        "  shutil.copyfile(test_dir + \"Non-Fire/\" + file, train_dir + \"Non-Fire/\" + file)"
      ],
      "execution_count": 7,
      "outputs": []
    },
    {
      "cell_type": "code",
      "metadata": {
        "colab": {
          "base_uri": "https://localhost:8080/"
        },
        "id": "j2CMr5kCGP94",
        "outputId": "c497a258-50df-4cd5-cff7-e9fc781559c9"
      },
      "source": [
        "print('total training fire images :', len(os.listdir(      train_dir + \"Fire\" ) ))\n",
        "print('total training non_fire images :', len(os.listdir(      train_dir + \"Non-Fire\" ) ))\n",
        "\n",
        "print('total validation fire images :', len(os.listdir( val_dir + \"Fire\" ) ))\n",
        "print('total validation non_fire images :', len(os.listdir( val_dir + \"Non-Fire\") ))"
      ],
      "execution_count": 10,
      "outputs": [
        {
          "output_type": "stream",
          "text": [
            "total training fire images : 4003\n",
            "total training non_fire images : 4000\n",
            "total validation fire images : 1000\n",
            "total validation non_fire images : 1000\n"
          ],
          "name": "stdout"
        }
      ]
    },
    {
      "cell_type": "markdown",
      "metadata": {
        "id": "GYSYAYdFq4YF"
      },
      "source": [
        "#Creating Image data generator"
      ]
    },
    {
      "cell_type": "code",
      "metadata": {
        "colab": {
          "base_uri": "https://localhost:8080/"
        },
        "id": "DHp3GQ7DGTmF",
        "outputId": "bcff9990-a1a4-4f3a-b7e3-850353c97601"
      },
      "source": [
        "import tensorflow as tf\n",
        "from tensorflow.keras.preprocessing.image import ImageDataGenerator\n",
        "\n",
        "train_datagen = ImageDataGenerator(\n",
        "    rotation_range = 40,\n",
        "    width_shift_range = 0.2,\n",
        "    height_shift_range = 0.2,\n",
        "    shear_range = 0.2,\n",
        "    zoom_range = 0.2,\n",
        "    horizontal_flip = True,\n",
        "    fill_mode = 'nearest',\n",
        "    preprocessing_function = tf.keras.applications.mobilenet_v2.preprocess_input\n",
        ")\n",
        "\n",
        "validation_datagen = ImageDataGenerator(preprocessing_function = tf.keras.applications.mobilenet_v2.preprocess_input)\n",
        "\n",
        "train_generator = train_datagen.flow_from_directory(\n",
        "        train_dir,  # This is the source directory for training images\n",
        "        target_size=(224, 224),  # All images will be resized to 224x224\n",
        "        batch_size=16,\n",
        "        class_mode='binary')\n",
        "\n",
        "# Flow training images in batches of 128 using train_datagen generator\n",
        "validation_generator = validation_datagen.flow_from_directory(\n",
        "        val_dir,  # This is the source directory for validation images\n",
        "        target_size=(224, 224),  # All images will be resized to 224x224\n",
        "        batch_size=16,\n",
        "        class_mode='binary')"
      ],
      "execution_count": 12,
      "outputs": [
        {
          "output_type": "stream",
          "text": [
            "Found 8003 images belonging to 2 classes.\n",
            "Found 2000 images belonging to 2 classes.\n"
          ],
          "name": "stdout"
        }
      ]
    },
    {
      "cell_type": "code",
      "metadata": {
        "colab": {
          "base_uri": "https://localhost:8080/"
        },
        "id": "UNAER1RzvZvn",
        "outputId": "a15d5286-4e3c-4568-e442-165f9111a96e"
      },
      "source": [
        "train_generator.class_indices"
      ],
      "execution_count": 40,
      "outputs": [
        {
          "output_type": "execute_result",
          "data": {
            "text/plain": [
              "{'Fire': 0, 'Non-Fire': 1}"
            ]
          },
          "metadata": {
            "tags": []
          },
          "execution_count": 40
        }
      ]
    },
    {
      "cell_type": "markdown",
      "metadata": {
        "id": "oav4sW2AJoyF"
      },
      "source": [
        "# Mobilenetv2"
      ]
    },
    {
      "cell_type": "markdown",
      "metadata": {
        "id": "M_Y8eULcJ08E"
      },
      "source": [
        "## Base model"
      ]
    },
    {
      "cell_type": "code",
      "metadata": {
        "colab": {
          "base_uri": "https://localhost:8080/"
        },
        "id": "KvIPcNCeecwu",
        "outputId": "e44fd197-68f2-49b9-cef4-f12859c5b1b7"
      },
      "source": [
        "base_model = tf.keras.applications.MobileNetV2(input_shape=(224, 224, 3),\n",
        "                                               include_top=False,\n",
        "                                               weights='imagenet')"
      ],
      "execution_count": 13,
      "outputs": [
        {
          "output_type": "stream",
          "text": [
            "Downloading data from https://storage.googleapis.com/tensorflow/keras-applications/mobilenet_v2/mobilenet_v2_weights_tf_dim_ordering_tf_kernels_1.0_224_no_top.h5\n",
            "9412608/9406464 [==============================] - 0s 0us/step\n"
          ],
          "name": "stdout"
        }
      ]
    },
    {
      "cell_type": "code",
      "metadata": {
        "colab": {
          "base_uri": "https://localhost:8080/"
        },
        "id": "Fe0JAceLEwSt",
        "outputId": "6e5e12ad-8597-417e-ab12-06e82c748b35"
      },
      "source": [
        "image_batch, label_batch = next(iter(train_generator))\n",
        "feature_batch = base_model(image_batch)\n",
        "print(feature_batch.shape)"
      ],
      "execution_count": 14,
      "outputs": [
        {
          "output_type": "stream",
          "text": [
            "(16, 7, 7, 1280)\n"
          ],
          "name": "stdout"
        }
      ]
    },
    {
      "cell_type": "code",
      "metadata": {
        "colab": {
          "base_uri": "https://localhost:8080/"
        },
        "id": "Xm1u64xduNfF",
        "outputId": "d902053b-7793-4f5e-e54e-251e123e9ba4"
      },
      "source": [
        "base_model.summary()"
      ],
      "execution_count": 15,
      "outputs": [
        {
          "output_type": "stream",
          "text": [
            "Model: \"mobilenetv2_1.00_224\"\n",
            "__________________________________________________________________________________________________\n",
            "Layer (type)                    Output Shape         Param #     Connected to                     \n",
            "==================================================================================================\n",
            "input_1 (InputLayer)            [(None, 224, 224, 3) 0                                            \n",
            "__________________________________________________________________________________________________\n",
            "Conv1 (Conv2D)                  (None, 112, 112, 32) 864         input_1[0][0]                    \n",
            "__________________________________________________________________________________________________\n",
            "bn_Conv1 (BatchNormalization)   (None, 112, 112, 32) 128         Conv1[0][0]                      \n",
            "__________________________________________________________________________________________________\n",
            "Conv1_relu (ReLU)               (None, 112, 112, 32) 0           bn_Conv1[0][0]                   \n",
            "__________________________________________________________________________________________________\n",
            "expanded_conv_depthwise (Depthw (None, 112, 112, 32) 288         Conv1_relu[0][0]                 \n",
            "__________________________________________________________________________________________________\n",
            "expanded_conv_depthwise_BN (Bat (None, 112, 112, 32) 128         expanded_conv_depthwise[0][0]    \n",
            "__________________________________________________________________________________________________\n",
            "expanded_conv_depthwise_relu (R (None, 112, 112, 32) 0           expanded_conv_depthwise_BN[0][0] \n",
            "__________________________________________________________________________________________________\n",
            "expanded_conv_project (Conv2D)  (None, 112, 112, 16) 512         expanded_conv_depthwise_relu[0][0\n",
            "__________________________________________________________________________________________________\n",
            "expanded_conv_project_BN (Batch (None, 112, 112, 16) 64          expanded_conv_project[0][0]      \n",
            "__________________________________________________________________________________________________\n",
            "block_1_expand (Conv2D)         (None, 112, 112, 96) 1536        expanded_conv_project_BN[0][0]   \n",
            "__________________________________________________________________________________________________\n",
            "block_1_expand_BN (BatchNormali (None, 112, 112, 96) 384         block_1_expand[0][0]             \n",
            "__________________________________________________________________________________________________\n",
            "block_1_expand_relu (ReLU)      (None, 112, 112, 96) 0           block_1_expand_BN[0][0]          \n",
            "__________________________________________________________________________________________________\n",
            "block_1_pad (ZeroPadding2D)     (None, 113, 113, 96) 0           block_1_expand_relu[0][0]        \n",
            "__________________________________________________________________________________________________\n",
            "block_1_depthwise (DepthwiseCon (None, 56, 56, 96)   864         block_1_pad[0][0]                \n",
            "__________________________________________________________________________________________________\n",
            "block_1_depthwise_BN (BatchNorm (None, 56, 56, 96)   384         block_1_depthwise[0][0]          \n",
            "__________________________________________________________________________________________________\n",
            "block_1_depthwise_relu (ReLU)   (None, 56, 56, 96)   0           block_1_depthwise_BN[0][0]       \n",
            "__________________________________________________________________________________________________\n",
            "block_1_project (Conv2D)        (None, 56, 56, 24)   2304        block_1_depthwise_relu[0][0]     \n",
            "__________________________________________________________________________________________________\n",
            "block_1_project_BN (BatchNormal (None, 56, 56, 24)   96          block_1_project[0][0]            \n",
            "__________________________________________________________________________________________________\n",
            "block_2_expand (Conv2D)         (None, 56, 56, 144)  3456        block_1_project_BN[0][0]         \n",
            "__________________________________________________________________________________________________\n",
            "block_2_expand_BN (BatchNormali (None, 56, 56, 144)  576         block_2_expand[0][0]             \n",
            "__________________________________________________________________________________________________\n",
            "block_2_expand_relu (ReLU)      (None, 56, 56, 144)  0           block_2_expand_BN[0][0]          \n",
            "__________________________________________________________________________________________________\n",
            "block_2_depthwise (DepthwiseCon (None, 56, 56, 144)  1296        block_2_expand_relu[0][0]        \n",
            "__________________________________________________________________________________________________\n",
            "block_2_depthwise_BN (BatchNorm (None, 56, 56, 144)  576         block_2_depthwise[0][0]          \n",
            "__________________________________________________________________________________________________\n",
            "block_2_depthwise_relu (ReLU)   (None, 56, 56, 144)  0           block_2_depthwise_BN[0][0]       \n",
            "__________________________________________________________________________________________________\n",
            "block_2_project (Conv2D)        (None, 56, 56, 24)   3456        block_2_depthwise_relu[0][0]     \n",
            "__________________________________________________________________________________________________\n",
            "block_2_project_BN (BatchNormal (None, 56, 56, 24)   96          block_2_project[0][0]            \n",
            "__________________________________________________________________________________________________\n",
            "block_2_add (Add)               (None, 56, 56, 24)   0           block_1_project_BN[0][0]         \n",
            "                                                                 block_2_project_BN[0][0]         \n",
            "__________________________________________________________________________________________________\n",
            "block_3_expand (Conv2D)         (None, 56, 56, 144)  3456        block_2_add[0][0]                \n",
            "__________________________________________________________________________________________________\n",
            "block_3_expand_BN (BatchNormali (None, 56, 56, 144)  576         block_3_expand[0][0]             \n",
            "__________________________________________________________________________________________________\n",
            "block_3_expand_relu (ReLU)      (None, 56, 56, 144)  0           block_3_expand_BN[0][0]          \n",
            "__________________________________________________________________________________________________\n",
            "block_3_pad (ZeroPadding2D)     (None, 57, 57, 144)  0           block_3_expand_relu[0][0]        \n",
            "__________________________________________________________________________________________________\n",
            "block_3_depthwise (DepthwiseCon (None, 28, 28, 144)  1296        block_3_pad[0][0]                \n",
            "__________________________________________________________________________________________________\n",
            "block_3_depthwise_BN (BatchNorm (None, 28, 28, 144)  576         block_3_depthwise[0][0]          \n",
            "__________________________________________________________________________________________________\n",
            "block_3_depthwise_relu (ReLU)   (None, 28, 28, 144)  0           block_3_depthwise_BN[0][0]       \n",
            "__________________________________________________________________________________________________\n",
            "block_3_project (Conv2D)        (None, 28, 28, 32)   4608        block_3_depthwise_relu[0][0]     \n",
            "__________________________________________________________________________________________________\n",
            "block_3_project_BN (BatchNormal (None, 28, 28, 32)   128         block_3_project[0][0]            \n",
            "__________________________________________________________________________________________________\n",
            "block_4_expand (Conv2D)         (None, 28, 28, 192)  6144        block_3_project_BN[0][0]         \n",
            "__________________________________________________________________________________________________\n",
            "block_4_expand_BN (BatchNormali (None, 28, 28, 192)  768         block_4_expand[0][0]             \n",
            "__________________________________________________________________________________________________\n",
            "block_4_expand_relu (ReLU)      (None, 28, 28, 192)  0           block_4_expand_BN[0][0]          \n",
            "__________________________________________________________________________________________________\n",
            "block_4_depthwise (DepthwiseCon (None, 28, 28, 192)  1728        block_4_expand_relu[0][0]        \n",
            "__________________________________________________________________________________________________\n",
            "block_4_depthwise_BN (BatchNorm (None, 28, 28, 192)  768         block_4_depthwise[0][0]          \n",
            "__________________________________________________________________________________________________\n",
            "block_4_depthwise_relu (ReLU)   (None, 28, 28, 192)  0           block_4_depthwise_BN[0][0]       \n",
            "__________________________________________________________________________________________________\n",
            "block_4_project (Conv2D)        (None, 28, 28, 32)   6144        block_4_depthwise_relu[0][0]     \n",
            "__________________________________________________________________________________________________\n",
            "block_4_project_BN (BatchNormal (None, 28, 28, 32)   128         block_4_project[0][0]            \n",
            "__________________________________________________________________________________________________\n",
            "block_4_add (Add)               (None, 28, 28, 32)   0           block_3_project_BN[0][0]         \n",
            "                                                                 block_4_project_BN[0][0]         \n",
            "__________________________________________________________________________________________________\n",
            "block_5_expand (Conv2D)         (None, 28, 28, 192)  6144        block_4_add[0][0]                \n",
            "__________________________________________________________________________________________________\n",
            "block_5_expand_BN (BatchNormali (None, 28, 28, 192)  768         block_5_expand[0][0]             \n",
            "__________________________________________________________________________________________________\n",
            "block_5_expand_relu (ReLU)      (None, 28, 28, 192)  0           block_5_expand_BN[0][0]          \n",
            "__________________________________________________________________________________________________\n",
            "block_5_depthwise (DepthwiseCon (None, 28, 28, 192)  1728        block_5_expand_relu[0][0]        \n",
            "__________________________________________________________________________________________________\n",
            "block_5_depthwise_BN (BatchNorm (None, 28, 28, 192)  768         block_5_depthwise[0][0]          \n",
            "__________________________________________________________________________________________________\n",
            "block_5_depthwise_relu (ReLU)   (None, 28, 28, 192)  0           block_5_depthwise_BN[0][0]       \n",
            "__________________________________________________________________________________________________\n",
            "block_5_project (Conv2D)        (None, 28, 28, 32)   6144        block_5_depthwise_relu[0][0]     \n",
            "__________________________________________________________________________________________________\n",
            "block_5_project_BN (BatchNormal (None, 28, 28, 32)   128         block_5_project[0][0]            \n",
            "__________________________________________________________________________________________________\n",
            "block_5_add (Add)               (None, 28, 28, 32)   0           block_4_add[0][0]                \n",
            "                                                                 block_5_project_BN[0][0]         \n",
            "__________________________________________________________________________________________________\n",
            "block_6_expand (Conv2D)         (None, 28, 28, 192)  6144        block_5_add[0][0]                \n",
            "__________________________________________________________________________________________________\n",
            "block_6_expand_BN (BatchNormali (None, 28, 28, 192)  768         block_6_expand[0][0]             \n",
            "__________________________________________________________________________________________________\n",
            "block_6_expand_relu (ReLU)      (None, 28, 28, 192)  0           block_6_expand_BN[0][0]          \n",
            "__________________________________________________________________________________________________\n",
            "block_6_pad (ZeroPadding2D)     (None, 29, 29, 192)  0           block_6_expand_relu[0][0]        \n",
            "__________________________________________________________________________________________________\n",
            "block_6_depthwise (DepthwiseCon (None, 14, 14, 192)  1728        block_6_pad[0][0]                \n",
            "__________________________________________________________________________________________________\n",
            "block_6_depthwise_BN (BatchNorm (None, 14, 14, 192)  768         block_6_depthwise[0][0]          \n",
            "__________________________________________________________________________________________________\n",
            "block_6_depthwise_relu (ReLU)   (None, 14, 14, 192)  0           block_6_depthwise_BN[0][0]       \n",
            "__________________________________________________________________________________________________\n",
            "block_6_project (Conv2D)        (None, 14, 14, 64)   12288       block_6_depthwise_relu[0][0]     \n",
            "__________________________________________________________________________________________________\n",
            "block_6_project_BN (BatchNormal (None, 14, 14, 64)   256         block_6_project[0][0]            \n",
            "__________________________________________________________________________________________________\n",
            "block_7_expand (Conv2D)         (None, 14, 14, 384)  24576       block_6_project_BN[0][0]         \n",
            "__________________________________________________________________________________________________\n",
            "block_7_expand_BN (BatchNormali (None, 14, 14, 384)  1536        block_7_expand[0][0]             \n",
            "__________________________________________________________________________________________________\n",
            "block_7_expand_relu (ReLU)      (None, 14, 14, 384)  0           block_7_expand_BN[0][0]          \n",
            "__________________________________________________________________________________________________\n",
            "block_7_depthwise (DepthwiseCon (None, 14, 14, 384)  3456        block_7_expand_relu[0][0]        \n",
            "__________________________________________________________________________________________________\n",
            "block_7_depthwise_BN (BatchNorm (None, 14, 14, 384)  1536        block_7_depthwise[0][0]          \n",
            "__________________________________________________________________________________________________\n",
            "block_7_depthwise_relu (ReLU)   (None, 14, 14, 384)  0           block_7_depthwise_BN[0][0]       \n",
            "__________________________________________________________________________________________________\n",
            "block_7_project (Conv2D)        (None, 14, 14, 64)   24576       block_7_depthwise_relu[0][0]     \n",
            "__________________________________________________________________________________________________\n",
            "block_7_project_BN (BatchNormal (None, 14, 14, 64)   256         block_7_project[0][0]            \n",
            "__________________________________________________________________________________________________\n",
            "block_7_add (Add)               (None, 14, 14, 64)   0           block_6_project_BN[0][0]         \n",
            "                                                                 block_7_project_BN[0][0]         \n",
            "__________________________________________________________________________________________________\n",
            "block_8_expand (Conv2D)         (None, 14, 14, 384)  24576       block_7_add[0][0]                \n",
            "__________________________________________________________________________________________________\n",
            "block_8_expand_BN (BatchNormali (None, 14, 14, 384)  1536        block_8_expand[0][0]             \n",
            "__________________________________________________________________________________________________\n",
            "block_8_expand_relu (ReLU)      (None, 14, 14, 384)  0           block_8_expand_BN[0][0]          \n",
            "__________________________________________________________________________________________________\n",
            "block_8_depthwise (DepthwiseCon (None, 14, 14, 384)  3456        block_8_expand_relu[0][0]        \n",
            "__________________________________________________________________________________________________\n",
            "block_8_depthwise_BN (BatchNorm (None, 14, 14, 384)  1536        block_8_depthwise[0][0]          \n",
            "__________________________________________________________________________________________________\n",
            "block_8_depthwise_relu (ReLU)   (None, 14, 14, 384)  0           block_8_depthwise_BN[0][0]       \n",
            "__________________________________________________________________________________________________\n",
            "block_8_project (Conv2D)        (None, 14, 14, 64)   24576       block_8_depthwise_relu[0][0]     \n",
            "__________________________________________________________________________________________________\n",
            "block_8_project_BN (BatchNormal (None, 14, 14, 64)   256         block_8_project[0][0]            \n",
            "__________________________________________________________________________________________________\n",
            "block_8_add (Add)               (None, 14, 14, 64)   0           block_7_add[0][0]                \n",
            "                                                                 block_8_project_BN[0][0]         \n",
            "__________________________________________________________________________________________________\n",
            "block_9_expand (Conv2D)         (None, 14, 14, 384)  24576       block_8_add[0][0]                \n",
            "__________________________________________________________________________________________________\n",
            "block_9_expand_BN (BatchNormali (None, 14, 14, 384)  1536        block_9_expand[0][0]             \n",
            "__________________________________________________________________________________________________\n",
            "block_9_expand_relu (ReLU)      (None, 14, 14, 384)  0           block_9_expand_BN[0][0]          \n",
            "__________________________________________________________________________________________________\n",
            "block_9_depthwise (DepthwiseCon (None, 14, 14, 384)  3456        block_9_expand_relu[0][0]        \n",
            "__________________________________________________________________________________________________\n",
            "block_9_depthwise_BN (BatchNorm (None, 14, 14, 384)  1536        block_9_depthwise[0][0]          \n",
            "__________________________________________________________________________________________________\n",
            "block_9_depthwise_relu (ReLU)   (None, 14, 14, 384)  0           block_9_depthwise_BN[0][0]       \n",
            "__________________________________________________________________________________________________\n",
            "block_9_project (Conv2D)        (None, 14, 14, 64)   24576       block_9_depthwise_relu[0][0]     \n",
            "__________________________________________________________________________________________________\n",
            "block_9_project_BN (BatchNormal (None, 14, 14, 64)   256         block_9_project[0][0]            \n",
            "__________________________________________________________________________________________________\n",
            "block_9_add (Add)               (None, 14, 14, 64)   0           block_8_add[0][0]                \n",
            "                                                                 block_9_project_BN[0][0]         \n",
            "__________________________________________________________________________________________________\n",
            "block_10_expand (Conv2D)        (None, 14, 14, 384)  24576       block_9_add[0][0]                \n",
            "__________________________________________________________________________________________________\n",
            "block_10_expand_BN (BatchNormal (None, 14, 14, 384)  1536        block_10_expand[0][0]            \n",
            "__________________________________________________________________________________________________\n",
            "block_10_expand_relu (ReLU)     (None, 14, 14, 384)  0           block_10_expand_BN[0][0]         \n",
            "__________________________________________________________________________________________________\n",
            "block_10_depthwise (DepthwiseCo (None, 14, 14, 384)  3456        block_10_expand_relu[0][0]       \n",
            "__________________________________________________________________________________________________\n",
            "block_10_depthwise_BN (BatchNor (None, 14, 14, 384)  1536        block_10_depthwise[0][0]         \n",
            "__________________________________________________________________________________________________\n",
            "block_10_depthwise_relu (ReLU)  (None, 14, 14, 384)  0           block_10_depthwise_BN[0][0]      \n",
            "__________________________________________________________________________________________________\n",
            "block_10_project (Conv2D)       (None, 14, 14, 96)   36864       block_10_depthwise_relu[0][0]    \n",
            "__________________________________________________________________________________________________\n",
            "block_10_project_BN (BatchNorma (None, 14, 14, 96)   384         block_10_project[0][0]           \n",
            "__________________________________________________________________________________________________\n",
            "block_11_expand (Conv2D)        (None, 14, 14, 576)  55296       block_10_project_BN[0][0]        \n",
            "__________________________________________________________________________________________________\n",
            "block_11_expand_BN (BatchNormal (None, 14, 14, 576)  2304        block_11_expand[0][0]            \n",
            "__________________________________________________________________________________________________\n",
            "block_11_expand_relu (ReLU)     (None, 14, 14, 576)  0           block_11_expand_BN[0][0]         \n",
            "__________________________________________________________________________________________________\n",
            "block_11_depthwise (DepthwiseCo (None, 14, 14, 576)  5184        block_11_expand_relu[0][0]       \n",
            "__________________________________________________________________________________________________\n",
            "block_11_depthwise_BN (BatchNor (None, 14, 14, 576)  2304        block_11_depthwise[0][0]         \n",
            "__________________________________________________________________________________________________\n",
            "block_11_depthwise_relu (ReLU)  (None, 14, 14, 576)  0           block_11_depthwise_BN[0][0]      \n",
            "__________________________________________________________________________________________________\n",
            "block_11_project (Conv2D)       (None, 14, 14, 96)   55296       block_11_depthwise_relu[0][0]    \n",
            "__________________________________________________________________________________________________\n",
            "block_11_project_BN (BatchNorma (None, 14, 14, 96)   384         block_11_project[0][0]           \n",
            "__________________________________________________________________________________________________\n",
            "block_11_add (Add)              (None, 14, 14, 96)   0           block_10_project_BN[0][0]        \n",
            "                                                                 block_11_project_BN[0][0]        \n",
            "__________________________________________________________________________________________________\n",
            "block_12_expand (Conv2D)        (None, 14, 14, 576)  55296       block_11_add[0][0]               \n",
            "__________________________________________________________________________________________________\n",
            "block_12_expand_BN (BatchNormal (None, 14, 14, 576)  2304        block_12_expand[0][0]            \n",
            "__________________________________________________________________________________________________\n",
            "block_12_expand_relu (ReLU)     (None, 14, 14, 576)  0           block_12_expand_BN[0][0]         \n",
            "__________________________________________________________________________________________________\n",
            "block_12_depthwise (DepthwiseCo (None, 14, 14, 576)  5184        block_12_expand_relu[0][0]       \n",
            "__________________________________________________________________________________________________\n",
            "block_12_depthwise_BN (BatchNor (None, 14, 14, 576)  2304        block_12_depthwise[0][0]         \n",
            "__________________________________________________________________________________________________\n",
            "block_12_depthwise_relu (ReLU)  (None, 14, 14, 576)  0           block_12_depthwise_BN[0][0]      \n",
            "__________________________________________________________________________________________________\n",
            "block_12_project (Conv2D)       (None, 14, 14, 96)   55296       block_12_depthwise_relu[0][0]    \n",
            "__________________________________________________________________________________________________\n",
            "block_12_project_BN (BatchNorma (None, 14, 14, 96)   384         block_12_project[0][0]           \n",
            "__________________________________________________________________________________________________\n",
            "block_12_add (Add)              (None, 14, 14, 96)   0           block_11_add[0][0]               \n",
            "                                                                 block_12_project_BN[0][0]        \n",
            "__________________________________________________________________________________________________\n",
            "block_13_expand (Conv2D)        (None, 14, 14, 576)  55296       block_12_add[0][0]               \n",
            "__________________________________________________________________________________________________\n",
            "block_13_expand_BN (BatchNormal (None, 14, 14, 576)  2304        block_13_expand[0][0]            \n",
            "__________________________________________________________________________________________________\n",
            "block_13_expand_relu (ReLU)     (None, 14, 14, 576)  0           block_13_expand_BN[0][0]         \n",
            "__________________________________________________________________________________________________\n",
            "block_13_pad (ZeroPadding2D)    (None, 15, 15, 576)  0           block_13_expand_relu[0][0]       \n",
            "__________________________________________________________________________________________________\n",
            "block_13_depthwise (DepthwiseCo (None, 7, 7, 576)    5184        block_13_pad[0][0]               \n",
            "__________________________________________________________________________________________________\n",
            "block_13_depthwise_BN (BatchNor (None, 7, 7, 576)    2304        block_13_depthwise[0][0]         \n",
            "__________________________________________________________________________________________________\n",
            "block_13_depthwise_relu (ReLU)  (None, 7, 7, 576)    0           block_13_depthwise_BN[0][0]      \n",
            "__________________________________________________________________________________________________\n",
            "block_13_project (Conv2D)       (None, 7, 7, 160)    92160       block_13_depthwise_relu[0][0]    \n",
            "__________________________________________________________________________________________________\n",
            "block_13_project_BN (BatchNorma (None, 7, 7, 160)    640         block_13_project[0][0]           \n",
            "__________________________________________________________________________________________________\n",
            "block_14_expand (Conv2D)        (None, 7, 7, 960)    153600      block_13_project_BN[0][0]        \n",
            "__________________________________________________________________________________________________\n",
            "block_14_expand_BN (BatchNormal (None, 7, 7, 960)    3840        block_14_expand[0][0]            \n",
            "__________________________________________________________________________________________________\n",
            "block_14_expand_relu (ReLU)     (None, 7, 7, 960)    0           block_14_expand_BN[0][0]         \n",
            "__________________________________________________________________________________________________\n",
            "block_14_depthwise (DepthwiseCo (None, 7, 7, 960)    8640        block_14_expand_relu[0][0]       \n",
            "__________________________________________________________________________________________________\n",
            "block_14_depthwise_BN (BatchNor (None, 7, 7, 960)    3840        block_14_depthwise[0][0]         \n",
            "__________________________________________________________________________________________________\n",
            "block_14_depthwise_relu (ReLU)  (None, 7, 7, 960)    0           block_14_depthwise_BN[0][0]      \n",
            "__________________________________________________________________________________________________\n",
            "block_14_project (Conv2D)       (None, 7, 7, 160)    153600      block_14_depthwise_relu[0][0]    \n",
            "__________________________________________________________________________________________________\n",
            "block_14_project_BN (BatchNorma (None, 7, 7, 160)    640         block_14_project[0][0]           \n",
            "__________________________________________________________________________________________________\n",
            "block_14_add (Add)              (None, 7, 7, 160)    0           block_13_project_BN[0][0]        \n",
            "                                                                 block_14_project_BN[0][0]        \n",
            "__________________________________________________________________________________________________\n",
            "block_15_expand (Conv2D)        (None, 7, 7, 960)    153600      block_14_add[0][0]               \n",
            "__________________________________________________________________________________________________\n",
            "block_15_expand_BN (BatchNormal (None, 7, 7, 960)    3840        block_15_expand[0][0]            \n",
            "__________________________________________________________________________________________________\n",
            "block_15_expand_relu (ReLU)     (None, 7, 7, 960)    0           block_15_expand_BN[0][0]         \n",
            "__________________________________________________________________________________________________\n",
            "block_15_depthwise (DepthwiseCo (None, 7, 7, 960)    8640        block_15_expand_relu[0][0]       \n",
            "__________________________________________________________________________________________________\n",
            "block_15_depthwise_BN (BatchNor (None, 7, 7, 960)    3840        block_15_depthwise[0][0]         \n",
            "__________________________________________________________________________________________________\n",
            "block_15_depthwise_relu (ReLU)  (None, 7, 7, 960)    0           block_15_depthwise_BN[0][0]      \n",
            "__________________________________________________________________________________________________\n",
            "block_15_project (Conv2D)       (None, 7, 7, 160)    153600      block_15_depthwise_relu[0][0]    \n",
            "__________________________________________________________________________________________________\n",
            "block_15_project_BN (BatchNorma (None, 7, 7, 160)    640         block_15_project[0][0]           \n",
            "__________________________________________________________________________________________________\n",
            "block_15_add (Add)              (None, 7, 7, 160)    0           block_14_add[0][0]               \n",
            "                                                                 block_15_project_BN[0][0]        \n",
            "__________________________________________________________________________________________________\n",
            "block_16_expand (Conv2D)        (None, 7, 7, 960)    153600      block_15_add[0][0]               \n",
            "__________________________________________________________________________________________________\n",
            "block_16_expand_BN (BatchNormal (None, 7, 7, 960)    3840        block_16_expand[0][0]            \n",
            "__________________________________________________________________________________________________\n",
            "block_16_expand_relu (ReLU)     (None, 7, 7, 960)    0           block_16_expand_BN[0][0]         \n",
            "__________________________________________________________________________________________________\n",
            "block_16_depthwise (DepthwiseCo (None, 7, 7, 960)    8640        block_16_expand_relu[0][0]       \n",
            "__________________________________________________________________________________________________\n",
            "block_16_depthwise_BN (BatchNor (None, 7, 7, 960)    3840        block_16_depthwise[0][0]         \n",
            "__________________________________________________________________________________________________\n",
            "block_16_depthwise_relu (ReLU)  (None, 7, 7, 960)    0           block_16_depthwise_BN[0][0]      \n",
            "__________________________________________________________________________________________________\n",
            "block_16_project (Conv2D)       (None, 7, 7, 320)    307200      block_16_depthwise_relu[0][0]    \n",
            "__________________________________________________________________________________________________\n",
            "block_16_project_BN (BatchNorma (None, 7, 7, 320)    1280        block_16_project[0][0]           \n",
            "__________________________________________________________________________________________________\n",
            "Conv_1 (Conv2D)                 (None, 7, 7, 1280)   409600      block_16_project_BN[0][0]        \n",
            "__________________________________________________________________________________________________\n",
            "Conv_1_bn (BatchNormalization)  (None, 7, 7, 1280)   5120        Conv_1[0][0]                     \n",
            "__________________________________________________________________________________________________\n",
            "out_relu (ReLU)                 (None, 7, 7, 1280)   0           Conv_1_bn[0][0]                  \n",
            "==================================================================================================\n",
            "Total params: 2,257,984\n",
            "Trainable params: 2,223,872\n",
            "Non-trainable params: 34,112\n",
            "__________________________________________________________________________________________________\n"
          ],
          "name": "stdout"
        }
      ]
    },
    {
      "cell_type": "code",
      "metadata": {
        "id": "7Z9ZJ5soehwH"
      },
      "source": [
        "base_model.trainable = False"
      ],
      "execution_count": 16,
      "outputs": []
    },
    {
      "cell_type": "code",
      "metadata": {
        "colab": {
          "base_uri": "https://localhost:8080/"
        },
        "id": "6nk0_mv_vH_2",
        "outputId": "65a8c348-2ea1-4b5e-a3aa-7ea73aa03c5c"
      },
      "source": [
        "global_average_layer = tf.keras.layers.GlobalAveragePooling2D()\n",
        "feature_batch_average = global_average_layer(feature_batch)\n",
        "print(feature_batch_average.shape)"
      ],
      "execution_count": 17,
      "outputs": [
        {
          "output_type": "stream",
          "text": [
            "(16, 1280)\n"
          ],
          "name": "stdout"
        }
      ]
    },
    {
      "cell_type": "code",
      "metadata": {
        "colab": {
          "base_uri": "https://localhost:8080/"
        },
        "id": "kuSdIfZPGDkH",
        "outputId": "4f977781-1cba-407c-d6f4-24acc6c143ac"
      },
      "source": [
        "prediction_layer = tf.keras.layers.Dense(1)\n",
        "prediction_batch = prediction_layer(feature_batch_average)\n",
        "print(prediction_batch.shape)"
      ],
      "execution_count": 18,
      "outputs": [
        {
          "output_type": "stream",
          "text": [
            "(16, 1)\n"
          ],
          "name": "stdout"
        }
      ]
    },
    {
      "cell_type": "markdown",
      "metadata": {
        "id": "Arbc-okgJ5zh"
      },
      "source": [
        "## Custom layer"
      ]
    },
    {
      "cell_type": "code",
      "metadata": {
        "id": "JaAIK9ajvawF"
      },
      "source": [
        "inputs = tf.keras.Input(shape=(224, 224, 3))\n",
        "x = base_model(inputs, training=False)\n",
        "x = global_average_layer(x)\n",
        "x = tf.keras.layers.Dropout(0.2)(x)\n",
        "outputs = prediction_layer(x)\n",
        "model = tf.keras.Model(inputs, outputs)"
      ],
      "execution_count": 19,
      "outputs": []
    },
    {
      "cell_type": "code",
      "metadata": {
        "colab": {
          "base_uri": "https://localhost:8080/"
        },
        "id": "pPb1gwaLvnfp",
        "outputId": "1cc4d688-e528-4204-ea85-8bbe632cb61b"
      },
      "source": [
        "model.summary()"
      ],
      "execution_count": 20,
      "outputs": [
        {
          "output_type": "stream",
          "text": [
            "Model: \"model\"\n",
            "_________________________________________________________________\n",
            "Layer (type)                 Output Shape              Param #   \n",
            "=================================================================\n",
            "input_2 (InputLayer)         [(None, 224, 224, 3)]     0         \n",
            "_________________________________________________________________\n",
            "mobilenetv2_1.00_224 (Functi (None, 7, 7, 1280)        2257984   \n",
            "_________________________________________________________________\n",
            "global_average_pooling2d (Gl (None, 1280)              0         \n",
            "_________________________________________________________________\n",
            "dropout (Dropout)            (None, 1280)              0         \n",
            "_________________________________________________________________\n",
            "dense (Dense)                (None, 1)                 1281      \n",
            "=================================================================\n",
            "Total params: 2,259,265\n",
            "Trainable params: 1,281\n",
            "Non-trainable params: 2,257,984\n",
            "_________________________________________________________________\n"
          ],
          "name": "stdout"
        }
      ]
    },
    {
      "cell_type": "markdown",
      "metadata": {
        "id": "JGPmb6nAJ-_f"
      },
      "source": [
        "# Training"
      ]
    },
    {
      "cell_type": "code",
      "metadata": {
        "id": "uNzilwc-vovZ"
      },
      "source": [
        "base_learning_rate = 0.0001\n",
        "model.compile(optimizer=tf.keras.optimizers.Adam(learning_rate=base_learning_rate),\n",
        "              loss=tf.keras.losses.BinaryCrossentropy(from_logits=True),\n",
        "              metrics=['accuracy'])"
      ],
      "execution_count": 22,
      "outputs": []
    },
    {
      "cell_type": "code",
      "metadata": {
        "colab": {
          "base_uri": "https://localhost:8080/"
        },
        "id": "kdRgTp-0wBh_",
        "outputId": "0670553b-2e25-4905-d811-f2fc27932b04"
      },
      "source": [
        "history = model.fit(\n",
        "      train_generator,\n",
        "      epochs=100,\n",
        "      verbose=1,\n",
        "      validation_data = validation_generator)"
      ],
      "execution_count": 23,
      "outputs": [
        {
          "output_type": "stream",
          "text": [
            "Epoch 1/100\n",
            "501/501 [==============================] - 88s 171ms/step - loss: 0.5291 - accuracy: 0.7115 - val_loss: 0.3091 - val_accuracy: 0.8345\n",
            "Epoch 2/100\n",
            "501/501 [==============================] - 85s 169ms/step - loss: 0.3342 - accuracy: 0.8487 - val_loss: 0.2283 - val_accuracy: 0.8730\n",
            "Epoch 3/100\n",
            "501/501 [==============================] - 85s 169ms/step - loss: 0.2727 - accuracy: 0.8809 - val_loss: 0.1761 - val_accuracy: 0.9085\n",
            "Epoch 4/100\n",
            "501/501 [==============================] - 85s 169ms/step - loss: 0.2355 - accuracy: 0.8999 - val_loss: 0.1481 - val_accuracy: 0.9260\n",
            "Epoch 5/100\n",
            "501/501 [==============================] - 84s 168ms/step - loss: 0.2178 - accuracy: 0.9108 - val_loss: 0.1306 - val_accuracy: 0.9375\n",
            "Epoch 6/100\n",
            "501/501 [==============================] - 84s 168ms/step - loss: 0.2041 - accuracy: 0.9160 - val_loss: 0.1220 - val_accuracy: 0.9415\n",
            "Epoch 7/100\n",
            "501/501 [==============================] - 84s 167ms/step - loss: 0.1919 - accuracy: 0.9215 - val_loss: 0.1183 - val_accuracy: 0.9390\n",
            "Epoch 8/100\n",
            "501/501 [==============================] - 84s 168ms/step - loss: 0.1843 - accuracy: 0.9247 - val_loss: 0.1067 - val_accuracy: 0.9465\n",
            "Epoch 9/100\n",
            "501/501 [==============================] - 84s 167ms/step - loss: 0.1726 - accuracy: 0.9323 - val_loss: 0.1024 - val_accuracy: 0.9470\n",
            "Epoch 10/100\n",
            "501/501 [==============================] - 84s 168ms/step - loss: 0.1705 - accuracy: 0.9312 - val_loss: 0.1104 - val_accuracy: 0.9400\n",
            "Epoch 11/100\n",
            "501/501 [==============================] - 84s 169ms/step - loss: 0.1677 - accuracy: 0.9297 - val_loss: 0.0955 - val_accuracy: 0.9500\n",
            "Epoch 12/100\n",
            "501/501 [==============================] - 84s 168ms/step - loss: 0.1570 - accuracy: 0.9360 - val_loss: 0.0977 - val_accuracy: 0.9455\n",
            "Epoch 13/100\n",
            "501/501 [==============================] - 84s 167ms/step - loss: 0.1639 - accuracy: 0.9344 - val_loss: 0.0875 - val_accuracy: 0.9590\n",
            "Epoch 14/100\n",
            "501/501 [==============================] - 84s 168ms/step - loss: 0.1590 - accuracy: 0.9340 - val_loss: 0.0906 - val_accuracy: 0.9540\n",
            "Epoch 15/100\n",
            "501/501 [==============================] - 84s 167ms/step - loss: 0.1615 - accuracy: 0.9358 - val_loss: 0.0862 - val_accuracy: 0.9600\n",
            "Epoch 16/100\n",
            "501/501 [==============================] - 84s 167ms/step - loss: 0.1526 - accuracy: 0.9405 - val_loss: 0.0813 - val_accuracy: 0.9635\n",
            "Epoch 17/100\n",
            "501/501 [==============================] - 83s 166ms/step - loss: 0.1513 - accuracy: 0.9430 - val_loss: 0.0866 - val_accuracy: 0.9565\n",
            "Epoch 18/100\n",
            "501/501 [==============================] - 83s 167ms/step - loss: 0.1545 - accuracy: 0.9375 - val_loss: 0.0846 - val_accuracy: 0.9575\n",
            "Epoch 19/100\n",
            "501/501 [==============================] - 84s 167ms/step - loss: 0.1476 - accuracy: 0.9395 - val_loss: 0.0873 - val_accuracy: 0.9530\n",
            "Epoch 20/100\n",
            "501/501 [==============================] - 83s 166ms/step - loss: 0.1457 - accuracy: 0.9411 - val_loss: 0.0769 - val_accuracy: 0.9640\n",
            "Epoch 21/100\n",
            "501/501 [==============================] - 83s 166ms/step - loss: 0.1433 - accuracy: 0.9416 - val_loss: 0.0854 - val_accuracy: 0.9555\n",
            "Epoch 22/100\n",
            "501/501 [==============================] - 84s 167ms/step - loss: 0.1439 - accuracy: 0.9424 - val_loss: 0.0815 - val_accuracy: 0.9590\n",
            "Epoch 23/100\n",
            "501/501 [==============================] - 84s 167ms/step - loss: 0.1440 - accuracy: 0.9405 - val_loss: 0.0798 - val_accuracy: 0.9600\n",
            "Epoch 24/100\n",
            "501/501 [==============================] - 84s 167ms/step - loss: 0.1485 - accuracy: 0.9424 - val_loss: 0.0759 - val_accuracy: 0.9610\n",
            "Epoch 25/100\n",
            "501/501 [==============================] - 84s 169ms/step - loss: 0.1422 - accuracy: 0.9429 - val_loss: 0.0792 - val_accuracy: 0.9605\n",
            "Epoch 26/100\n",
            "501/501 [==============================] - 84s 169ms/step - loss: 0.1383 - accuracy: 0.9445 - val_loss: 0.0750 - val_accuracy: 0.9625\n",
            "Epoch 27/100\n",
            "501/501 [==============================] - 84s 167ms/step - loss: 0.1320 - accuracy: 0.9460 - val_loss: 0.0814 - val_accuracy: 0.9580\n",
            "Epoch 28/100\n",
            "501/501 [==============================] - 84s 168ms/step - loss: 0.1321 - accuracy: 0.9454 - val_loss: 0.0710 - val_accuracy: 0.9645\n",
            "Epoch 29/100\n",
            "501/501 [==============================] - 84s 168ms/step - loss: 0.1359 - accuracy: 0.9485 - val_loss: 0.0760 - val_accuracy: 0.9620\n",
            "Epoch 30/100\n",
            "501/501 [==============================] - 84s 168ms/step - loss: 0.1424 - accuracy: 0.9439 - val_loss: 0.0712 - val_accuracy: 0.9645\n",
            "Epoch 31/100\n",
            "501/501 [==============================] - 84s 167ms/step - loss: 0.1337 - accuracy: 0.9463 - val_loss: 0.0770 - val_accuracy: 0.9605\n",
            "Epoch 32/100\n",
            "501/501 [==============================] - 84s 167ms/step - loss: 0.1393 - accuracy: 0.9418 - val_loss: 0.0779 - val_accuracy: 0.9600\n",
            "Epoch 33/100\n",
            "501/501 [==============================] - 84s 167ms/step - loss: 0.1318 - accuracy: 0.9486 - val_loss: 0.0747 - val_accuracy: 0.9625\n",
            "Epoch 34/100\n",
            "501/501 [==============================] - 84s 167ms/step - loss: 0.1320 - accuracy: 0.9459 - val_loss: 0.0787 - val_accuracy: 0.9585\n",
            "Epoch 35/100\n",
            "501/501 [==============================] - 84s 167ms/step - loss: 0.1389 - accuracy: 0.9446 - val_loss: 0.0725 - val_accuracy: 0.9650\n",
            "Epoch 36/100\n",
            "501/501 [==============================] - 84s 167ms/step - loss: 0.1340 - accuracy: 0.9458 - val_loss: 0.0753 - val_accuracy: 0.9615\n",
            "Epoch 37/100\n",
            "501/501 [==============================] - 84s 167ms/step - loss: 0.1318 - accuracy: 0.9475 - val_loss: 0.0671 - val_accuracy: 0.9680\n",
            "Epoch 38/100\n",
            "501/501 [==============================] - 83s 166ms/step - loss: 0.1319 - accuracy: 0.9481 - val_loss: 0.0725 - val_accuracy: 0.9635\n",
            "Epoch 39/100\n",
            "501/501 [==============================] - 83s 166ms/step - loss: 0.1345 - accuracy: 0.9421 - val_loss: 0.0730 - val_accuracy: 0.9625\n",
            "Epoch 40/100\n",
            "501/501 [==============================] - 83s 167ms/step - loss: 0.1404 - accuracy: 0.9455 - val_loss: 0.0754 - val_accuracy: 0.9615\n",
            "Epoch 41/100\n",
            "501/501 [==============================] - 84s 167ms/step - loss: 0.1322 - accuracy: 0.9450 - val_loss: 0.0707 - val_accuracy: 0.9660\n",
            "Epoch 42/100\n",
            "501/501 [==============================] - 83s 166ms/step - loss: 0.1311 - accuracy: 0.9485 - val_loss: 0.0741 - val_accuracy: 0.9630\n",
            "Epoch 43/100\n",
            "501/501 [==============================] - 83s 166ms/step - loss: 0.1259 - accuracy: 0.9498 - val_loss: 0.0731 - val_accuracy: 0.9645\n",
            "Epoch 44/100\n",
            "501/501 [==============================] - 83s 166ms/step - loss: 0.1306 - accuracy: 0.9474 - val_loss: 0.0737 - val_accuracy: 0.9630\n",
            "Epoch 45/100\n",
            "501/501 [==============================] - 83s 166ms/step - loss: 0.1352 - accuracy: 0.9441 - val_loss: 0.0757 - val_accuracy: 0.9610\n",
            "Epoch 46/100\n",
            "501/501 [==============================] - 83s 166ms/step - loss: 0.1280 - accuracy: 0.9505 - val_loss: 0.0767 - val_accuracy: 0.9595\n",
            "Epoch 47/100\n",
            "501/501 [==============================] - 83s 166ms/step - loss: 0.1289 - accuracy: 0.9456 - val_loss: 0.0736 - val_accuracy: 0.9630\n",
            "Epoch 48/100\n",
            "501/501 [==============================] - 84s 167ms/step - loss: 0.1280 - accuracy: 0.9466 - val_loss: 0.0682 - val_accuracy: 0.9680\n",
            "Epoch 49/100\n",
            "501/501 [==============================] - 84s 167ms/step - loss: 0.1274 - accuracy: 0.9495 - val_loss: 0.0669 - val_accuracy: 0.9695\n",
            "Epoch 50/100\n",
            "501/501 [==============================] - 84s 167ms/step - loss: 0.1329 - accuracy: 0.9474 - val_loss: 0.0742 - val_accuracy: 0.9600\n",
            "Epoch 51/100\n",
            "501/501 [==============================] - 83s 166ms/step - loss: 0.1215 - accuracy: 0.9503 - val_loss: 0.0695 - val_accuracy: 0.9650\n",
            "Epoch 52/100\n",
            "501/501 [==============================] - 84s 167ms/step - loss: 0.1305 - accuracy: 0.9470 - val_loss: 0.0774 - val_accuracy: 0.9580\n",
            "Epoch 53/100\n",
            "501/501 [==============================] - 83s 166ms/step - loss: 0.1233 - accuracy: 0.9534 - val_loss: 0.0764 - val_accuracy: 0.9590\n",
            "Epoch 54/100\n",
            "501/501 [==============================] - 83s 166ms/step - loss: 0.1189 - accuracy: 0.9524 - val_loss: 0.0688 - val_accuracy: 0.9670\n",
            "Epoch 55/100\n",
            "501/501 [==============================] - 84s 167ms/step - loss: 0.1323 - accuracy: 0.9490 - val_loss: 0.0682 - val_accuracy: 0.9685\n",
            "Epoch 56/100\n",
            "501/501 [==============================] - 84s 167ms/step - loss: 0.1234 - accuracy: 0.9491 - val_loss: 0.0699 - val_accuracy: 0.9660\n",
            "Epoch 57/100\n",
            "501/501 [==============================] - 84s 167ms/step - loss: 0.1277 - accuracy: 0.9490 - val_loss: 0.0726 - val_accuracy: 0.9620\n",
            "Epoch 58/100\n",
            "501/501 [==============================] - 84s 167ms/step - loss: 0.1270 - accuracy: 0.9486 - val_loss: 0.0705 - val_accuracy: 0.9640\n",
            "Epoch 59/100\n",
            "501/501 [==============================] - 84s 168ms/step - loss: 0.1252 - accuracy: 0.9503 - val_loss: 0.0713 - val_accuracy: 0.9635\n",
            "Epoch 60/100\n",
            "501/501 [==============================] - 84s 168ms/step - loss: 0.1266 - accuracy: 0.9491 - val_loss: 0.0694 - val_accuracy: 0.9670\n",
            "Epoch 61/100\n",
            "501/501 [==============================] - 84s 167ms/step - loss: 0.1204 - accuracy: 0.9534 - val_loss: 0.0692 - val_accuracy: 0.9670\n",
            "Epoch 62/100\n",
            "501/501 [==============================] - 83s 166ms/step - loss: 0.1225 - accuracy: 0.9493 - val_loss: 0.0698 - val_accuracy: 0.9650\n",
            "Epoch 63/100\n",
            "501/501 [==============================] - 84s 167ms/step - loss: 0.1226 - accuracy: 0.9510 - val_loss: 0.0760 - val_accuracy: 0.9590\n",
            "Epoch 64/100\n",
            "501/501 [==============================] - 84s 168ms/step - loss: 0.1246 - accuracy: 0.9505 - val_loss: 0.0694 - val_accuracy: 0.9670\n",
            "Epoch 65/100\n",
            "501/501 [==============================] - 84s 167ms/step - loss: 0.1286 - accuracy: 0.9498 - val_loss: 0.0622 - val_accuracy: 0.9725\n",
            "Epoch 66/100\n",
            "501/501 [==============================] - 84s 167ms/step - loss: 0.1227 - accuracy: 0.9508 - val_loss: 0.0667 - val_accuracy: 0.9680\n",
            "Epoch 67/100\n",
            "501/501 [==============================] - 84s 168ms/step - loss: 0.1227 - accuracy: 0.9484 - val_loss: 0.0716 - val_accuracy: 0.9645\n",
            "Epoch 68/100\n",
            "501/501 [==============================] - 84s 167ms/step - loss: 0.1244 - accuracy: 0.9504 - val_loss: 0.0685 - val_accuracy: 0.9665\n",
            "Epoch 69/100\n",
            "501/501 [==============================] - 84s 167ms/step - loss: 0.1301 - accuracy: 0.9489 - val_loss: 0.0637 - val_accuracy: 0.9700\n",
            "Epoch 70/100\n",
            "501/501 [==============================] - 84s 167ms/step - loss: 0.1164 - accuracy: 0.9543 - val_loss: 0.0652 - val_accuracy: 0.9695\n",
            "Epoch 71/100\n",
            "501/501 [==============================] - 83s 167ms/step - loss: 0.1205 - accuracy: 0.9539 - val_loss: 0.0660 - val_accuracy: 0.9690\n",
            "Epoch 72/100\n",
            "501/501 [==============================] - 83s 167ms/step - loss: 0.1192 - accuracy: 0.9511 - val_loss: 0.0596 - val_accuracy: 0.9740\n",
            "Epoch 73/100\n",
            "501/501 [==============================] - 83s 166ms/step - loss: 0.1223 - accuracy: 0.9519 - val_loss: 0.0699 - val_accuracy: 0.9645\n",
            "Epoch 74/100\n",
            "501/501 [==============================] - 83s 167ms/step - loss: 0.1257 - accuracy: 0.9478 - val_loss: 0.0676 - val_accuracy: 0.9670\n",
            "Epoch 75/100\n",
            "501/501 [==============================] - 83s 166ms/step - loss: 0.1185 - accuracy: 0.9523 - val_loss: 0.0721 - val_accuracy: 0.9625\n",
            "Epoch 76/100\n",
            "501/501 [==============================] - 83s 166ms/step - loss: 0.1228 - accuracy: 0.9491 - val_loss: 0.0673 - val_accuracy: 0.9655\n",
            "Epoch 77/100\n",
            "501/501 [==============================] - 83s 166ms/step - loss: 0.1219 - accuracy: 0.9523 - val_loss: 0.0664 - val_accuracy: 0.9670\n",
            "Epoch 78/100\n",
            "501/501 [==============================] - 84s 167ms/step - loss: 0.1209 - accuracy: 0.9500 - val_loss: 0.0675 - val_accuracy: 0.9660\n",
            "Epoch 79/100\n",
            "501/501 [==============================] - 83s 167ms/step - loss: 0.1219 - accuracy: 0.9506 - val_loss: 0.0690 - val_accuracy: 0.9640\n",
            "Epoch 80/100\n",
            "501/501 [==============================] - 83s 167ms/step - loss: 0.1200 - accuracy: 0.9521 - val_loss: 0.0734 - val_accuracy: 0.9605\n",
            "Epoch 81/100\n",
            "501/501 [==============================] - 84s 167ms/step - loss: 0.1201 - accuracy: 0.9486 - val_loss: 0.0657 - val_accuracy: 0.9670\n",
            "Epoch 82/100\n",
            "501/501 [==============================] - 84s 168ms/step - loss: 0.1218 - accuracy: 0.9519 - val_loss: 0.0650 - val_accuracy: 0.9685\n",
            "Epoch 83/100\n",
            "501/501 [==============================] - 84s 167ms/step - loss: 0.1231 - accuracy: 0.9514 - val_loss: 0.0643 - val_accuracy: 0.9700\n",
            "Epoch 84/100\n",
            "501/501 [==============================] - 84s 167ms/step - loss: 0.1282 - accuracy: 0.9496 - val_loss: 0.0671 - val_accuracy: 0.9655\n",
            "Epoch 85/100\n",
            "501/501 [==============================] - 84s 167ms/step - loss: 0.1163 - accuracy: 0.9531 - val_loss: 0.0652 - val_accuracy: 0.9670\n",
            "Epoch 86/100\n",
            "501/501 [==============================] - 84s 167ms/step - loss: 0.1227 - accuracy: 0.9509 - val_loss: 0.0642 - val_accuracy: 0.9700\n",
            "Epoch 87/100\n",
            "501/501 [==============================] - 83s 167ms/step - loss: 0.1248 - accuracy: 0.9519 - val_loss: 0.0703 - val_accuracy: 0.9640\n",
            "Epoch 88/100\n",
            "501/501 [==============================] - 83s 166ms/step - loss: 0.1235 - accuracy: 0.9509 - val_loss: 0.0636 - val_accuracy: 0.9690\n",
            "Epoch 89/100\n",
            "501/501 [==============================] - 84s 167ms/step - loss: 0.1164 - accuracy: 0.9526 - val_loss: 0.0630 - val_accuracy: 0.9710\n",
            "Epoch 90/100\n",
            "501/501 [==============================] - 84s 167ms/step - loss: 0.1188 - accuracy: 0.9506 - val_loss: 0.0686 - val_accuracy: 0.9660\n",
            "Epoch 91/100\n",
            "501/501 [==============================] - 84s 167ms/step - loss: 0.1197 - accuracy: 0.9515 - val_loss: 0.0687 - val_accuracy: 0.9655\n",
            "Epoch 92/100\n",
            "501/501 [==============================] - 83s 167ms/step - loss: 0.1196 - accuracy: 0.9499 - val_loss: 0.0695 - val_accuracy: 0.9635\n",
            "Epoch 93/100\n",
            "501/501 [==============================] - 84s 167ms/step - loss: 0.1206 - accuracy: 0.9533 - val_loss: 0.0667 - val_accuracy: 0.9680\n",
            "Epoch 94/100\n",
            "501/501 [==============================] - 84s 167ms/step - loss: 0.1149 - accuracy: 0.9523 - val_loss: 0.0695 - val_accuracy: 0.9650\n",
            "Epoch 95/100\n",
            "501/501 [==============================] - 84s 167ms/step - loss: 0.1222 - accuracy: 0.9523 - val_loss: 0.0650 - val_accuracy: 0.9690\n",
            "Epoch 96/100\n",
            "501/501 [==============================] - 84s 167ms/step - loss: 0.1122 - accuracy: 0.9551 - val_loss: 0.0712 - val_accuracy: 0.9640\n",
            "Epoch 97/100\n",
            "501/501 [==============================] - 84s 167ms/step - loss: 0.1264 - accuracy: 0.9491 - val_loss: 0.0676 - val_accuracy: 0.9685\n",
            "Epoch 98/100\n",
            "501/501 [==============================] - 83s 167ms/step - loss: 0.1149 - accuracy: 0.9539 - val_loss: 0.0627 - val_accuracy: 0.9700\n",
            "Epoch 99/100\n",
            "501/501 [==============================] - 84s 167ms/step - loss: 0.1194 - accuracy: 0.9510 - val_loss: 0.0687 - val_accuracy: 0.9655\n",
            "Epoch 100/100\n",
            "501/501 [==============================] - 84s 167ms/step - loss: 0.1220 - accuracy: 0.9513 - val_loss: 0.0633 - val_accuracy: 0.9680\n"
          ],
          "name": "stdout"
        }
      ]
    },
    {
      "cell_type": "code",
      "metadata": {
        "colab": {
          "base_uri": "https://localhost:8080/",
          "height": 545
        },
        "id": "iY2ZTfiawjZ0",
        "outputId": "28d9c49c-9850-453f-e62e-e991b3001880"
      },
      "source": [
        "import matplotlib.pyplot as plt\n",
        "acc = history.history['accuracy']\n",
        "val_acc = history.history['val_accuracy']\n",
        "loss = history.history['loss']\n",
        "val_loss = history.history['val_loss']\n",
        "\n",
        "epochs = range(len(acc))\n",
        "\n",
        "plt.plot(epochs, acc, 'r', label='Training accuracy')\n",
        "plt.plot(epochs, val_acc, 'b', label='Validation accuracy')\n",
        "plt.title('Training and validation accuracy')\n",
        "\n",
        "plt.figure()\n",
        "\n",
        "plt.plot(epochs, loss, 'r', label='Training Loss')\n",
        "plt.plot(epochs, val_loss, 'b', label='Validation Loss')\n",
        "plt.title('Training and validation loss')\n",
        "plt.legend()\n",
        "\n",
        "plt.show()"
      ],
      "execution_count": 24,
      "outputs": [
        {
          "output_type": "display_data",
          "data": {
            "image/png": "[encoded data removed]",
            "text/plain": [
              "<Figure size 432x288 with 1 Axes>"
            ]
          },
          "metadata": {
            "tags": [],
            "needs_background": "light"
          }
        },
        {
          "output_type": "display_data",
          "data": {
            "image/png": "[encoded data removed]",
            "text/plain": [
              "<Figure size 432x288 with 1 Axes>"
            ]
          },
          "metadata": {
            "tags": [],
            "needs_background": "light"
          }
        }
      ]
    },
    {
      "cell_type": "markdown",
      "metadata": {
        "id": "sE2odX0KKCMs"
      },
      "source": [
        "# Saving the model"
      ]
    },
    {
      "cell_type": "code",
      "metadata": {
        "colab": {
          "base_uri": "https://localhost:8080/"
        },
        "id": "-Mx9NqbroR63",
        "outputId": "d878efaf-f3a3-4d8c-8085-71df0132fe04"
      },
      "source": [
        "saved_model_path = \"/content/drive/MyDrive/Capstone/fire_detection_v4.h5\"\n",
        "\n",
        "model.save(saved_model_path)"
      ],
      "execution_count": 25,
      "outputs": [
        {
          "output_type": "stream",
          "text": [
            "/usr/local/lib/python3.7/dist-packages/tensorflow/python/keras/utils/generic_utils.py:497: CustomMaskWarning: Custom mask layers require a config and must override get_config. When loading, the custom mask layer must be passed to the custom_objects argument.\n",
            "  category=CustomMaskWarning)\n"
          ],
          "name": "stderr"
        }
      ]
    },
    {
      "cell_type": "code",
      "metadata": {
        "colab": {
          "base_uri": "https://localhost:8080/"
        },
        "id": "nFR_vpi2oc5p",
        "outputId": "f59bee3e-cc00-4924-fda8-5c9add392775"
      },
      "source": [
        "model.save('/content/drive/MyDrive/Capstone/fire_detection_v4')"
      ],
      "execution_count": 26,
      "outputs": [
        {
          "output_type": "stream",
          "text": [
            "/usr/local/lib/python3.7/dist-packages/tensorflow/python/keras/utils/generic_utils.py:497: CustomMaskWarning: Custom mask layers require a config and must override get_config. When loading, the custom mask layer must be passed to the custom_objects argument.\n",
            "  category=CustomMaskWarning)\n"
          ],
          "name": "stderr"
        },
        {
          "output_type": "stream",
          "text": [
            "INFO:tensorflow:Assets written to: /content/drive/MyDrive/Capstone/fire_detection_v4/assets\n"
          ],
          "name": "stdout"
        }
      ]
    },
    {
      "cell_type": "markdown",
      "metadata": {
        "id": "3bl-_qt2KK4S"
      },
      "source": [
        "# Prediciting new data"
      ]
    },
    {
      "cell_type": "code",
      "metadata": {
        "colab": {
          "base_uri": "https://localhost:8080/"
        },
        "id": "5h6RNy26ql1M",
        "outputId": "fd4ab465-bafc-4c4f-e440-514d9bd84990"
      },
      "source": [
        "import numpy as np\n",
        "from keras.preprocessing import image\n",
        "path = \"/content/drive/MyDrive/Capstone/ShareX_5SXBgMiAjv.png\"\n",
        "img = image.load_img(path, target_size=(224,224))\n",
        "\n",
        "x = image.img_to_array(img)\n",
        "x = tf.expand_dims(x, axis=0)\n",
        "x = tf.keras.applications.mobilenet_v2.preprocess_input(x)\n",
        "\n",
        "prediction = model.predict(x)\n",
        "print(prediction)\n",
        "print(path + \" is not fire\" if prediction[0][0] > 0 else path + \" is fire\")\n"
      ],
      "execution_count": 60,
      "outputs": [
        {
          "output_type": "stream",
          "text": [
            "[[5.274464]]\n",
            "/content/drive/MyDrive/Capstone/ShareX_5SXBgMiAjv.png is not fire\n"
          ],
          "name": "stdout"
        }
      ]
    },
    {
      "cell_type": "code",
      "metadata": {
        "colab": {
          "base_uri": "https://localhost:8080/",
          "height": 286
        },
        "id": "NC4D5bIvq17W",
        "outputId": "03c0679d-0405-4df7-f4dd-b0993207fb0f"
      },
      "source": [
        "import matplotlib.pyplot as plt\n",
        "plt.imshow(img)"
      ],
      "execution_count": 61,
      "outputs": [
        {
          "output_type": "execute_result",
          "data": {
            "text/plain": [
              "<matplotlib.image.AxesImage at 0x7f594e8c8ed0>"
            ]
          },
          "metadata": {
            "tags": []
          },
          "execution_count": 61
        },
        {
          "output_type": "display_data",
          "data": {
            "image/png": "[encoded data removed]",
            "text/plain": [
              "<Figure size 432x288 with 1 Axes>"
            ]
          },
          "metadata": {
            "tags": [],
            "needs_background": "light"
          }
        }
      ]
    },
    {
      "cell_type": "code",
      "metadata": {
        "id": "9uq_zPDLw_Ay"
      },
      "source": [
        ""
      ],
      "execution_count": null,
      "outputs": []
    }
  ]
}